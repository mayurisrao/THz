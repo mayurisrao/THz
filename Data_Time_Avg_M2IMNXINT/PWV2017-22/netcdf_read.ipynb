{
 "cells": [
  {
   "cell_type": "code",
   "execution_count": 2,
   "metadata": {},
   "outputs": [],
   "source": [
    "from netCDF4 import Dataset\n",
    "import numpy as np"
   ]
  },
  {
   "cell_type": "code",
   "execution_count": 3,
   "metadata": {},
   "outputs": [
    {
     "name": "stdout",
     "output_type": "stream",
     "text": [
      "dict_keys(['M2IMNXINT_5_12_4_TQV', 'lat', 'lat_bnds', 'lon', 'lon_bnds'])\n"
     ]
    }
   ],
   "source": [
    "my_example_nc_file = 'timeAvgMap.M2IMNXINT_5_12_4_TQV.20170301-20220331.77E_31N_80E_34N.nc'\n",
    "fh = Dataset(my_example_nc_file, mode='r')\n",
    "\n",
    "print(fh.variables.keys())"
   ]
  },
  {
   "cell_type": "code",
   "execution_count": 4,
   "metadata": {},
   "outputs": [],
   "source": [
    "lons = fh.variables['lon'][:]\n",
    "lats = fh.variables['lat'][:]\n",
    "lon_bnds = fh.variables['lon_bnds'][:]\n",
    "lat_bnds = fh.variables['lat_bnds'][:]\n",
    "p = fh.variables['M2IMNXINT_5_12_4_TQV'][:]\n",
    "\n",
    "#datamonth = fh.variables['datamonth'][:]\n",
    "\n",
    "#p = fh.variables['TQV'][:]\n",
    "\n",
    "p_units = fh.variables['M2IMNXINT_5_12_4_TQV'].units"
   ]
  },
  {
   "cell_type": "code",
   "execution_count": 5,
   "metadata": {},
   "outputs": [
    {
     "name": "stdout",
     "output_type": "stream",
     "text": [
      "78.75 33.0\n"
     ]
    },
    {
     "name": "stderr",
     "output_type": "stream",
     "text": [
      "C:\\Users\\TANMAY~1\\AppData\\Local\\Temp/ipykernel_23252/1551335516.py:22: UserWarning: The input coordinates to pcolor are interpreted as cell centers, but are not monotonically increasing or decreasing. This may lead to incorrectly calculated cell edges, in which case, please supply explicit cell edges to pcolor.\n",
      "  cs = m.pcolor(xi,yi,np.squeeze(p))\n"
     ]
    },
    {
     "data": {
      "image/png": "[encoded data removed]",
      "text/plain": [
       "<Figure size 432x288 with 2 Axes>"
      ]
     },
     "metadata": {
      "needs_background": "light"
     },
     "output_type": "display_data"
    }
   ],
   "source": [
    "import matplotlib.pyplot as plt\n",
    "from mpl_toolkits.basemap import Basemap\n",
    "\n",
    "\n",
    "# Get some parameters for the Stereographic Projection\n",
    "lon_0 = lons.mean()\n",
    "lat_0 = lats.mean()\n",
    "\n",
    "print(lon_0,lat_0)\n",
    "\n",
    "m = Basemap(width=500000,height=500000,\n",
    "            resolution='h',projection='stere',\n",
    "            lat_ts=10,lat_0=lat_0,lon_0=lon_0)\n",
    "\n",
    "# Because our lon and lat variables are 1D,\n",
    "# use meshgrid to create 2D arrays\n",
    "# Not necessary if coordinates are already in 2D arrays.\n",
    "lon, lat = np.meshgrid(lons, lats)\n",
    "xi, yi = m(lon, lat)\n",
    "\n",
    "# Plot Data\n",
    "cs = m.pcolor(xi,yi,np.squeeze(p))\n",
    "\n",
    "# Add Grid Lines\n",
    "m.drawparallels(np.arange(-80., 81., 10.), labels=[1,0,0,0], fontsize=10)\n",
    "m.drawmeridians(np.arange(-180., 181., 10.), labels=[0,0,0,1], fontsize=10)\n",
    "\n",
    "# Add Coastlines, States, and Country Boundaries\n",
    "m.drawcoastlines()\n",
    "m.drawstates()\n",
    "m.drawcountries()\n",
    "\n",
    "# Add Colorbar\n",
    "cbar = m.colorbar(mappable=None, location='bottom', pad=\"10%\")\n",
    "cbar.set_label(p_units)\n",
    "\n",
    "# Add Title\n",
    "plt.title('PWV Content Heat Map 2017-22')\n",
    "\n",
    "plt.show()"
   ]
  }
 ],
 "metadata": {
  "interpreter": {
   "hash": "34a7ad8b6b121fd8741c6d8ce97aabeba965c85a179ba9c05da70f7ef4c9fd4f"
  },
  "kernelspec": {
   "display_name": "Python 3.9.4 64-bit",
   "language": "python",
   "name": "python3"
  },
  "language_info": {
   "codemirror_mode": {
    "name": "ipython",
    "version": 3
   },
   "file_extension": ".py",
   "mimetype": "text/x-python",
   "name": "python",
   "nbconvert_exporter": "python",
   "pygments_lexer": "ipython3",
   "version": "3.9.4"
  },
  "orig_nbformat": 4
 },
 "nbformat": 4,
 "nbformat_minor": 2
}
