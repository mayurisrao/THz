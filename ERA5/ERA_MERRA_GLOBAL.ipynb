{
 "cells": [
  {
   "cell_type": "code",
   "execution_count": 1,
   "metadata": {},
   "outputs": [],
   "source": [
    "import matplotlib.pyplot as plt \n",
    "import matplotlib as mpl\n",
    "import pandas as pd\n",
    "from netCDF4 import Dataset\n",
    "import collections\n",
    "import numpy as np\n",
    "import glob\n",
    "import matplotlib.pyplot as plt\n",
    "from mpl_toolkits.basemap import Basemap\n",
    "import re\n",
    "from pathlib import Path\n",
    "from scipy.interpolate import griddata\n",
    "from scipy.interpolate import interp2d\n",
    "from scipy.stats import gaussian_kde\n",
    "from scipy.stats import wasserstein_distance\n",
    "from scipy.stats import entropy\n",
    "from scipy.stats import spearmanr\n",
    "import xarray as xr\n",
    "import pandas as pd\n",
    "import glob\n",
    "import geopandas as gpd \n",
    "import shapefile as shp \n",
    "import seaborn as sns\n",
    "from sklearn.metrics import mean_squared_error\n",
    "import zarr\n"
   ]
  },
  {
   "cell_type": "code",
   "execution_count": null,
   "metadata": {},
   "outputs": [],
   "source": [
    "files=glob.glob(r\"D:\\OneDrive - IIT Delhi\\Intern\\RRI\\ERA5\\Merra Global Hourly\\*.nc\")\n",
    "\n",
    "arr_merra = []\n",
    "for file in files:\n",
    "    ds = xr.open_dataset(file,decode_cf=True)\n",
    "    arr_merra.append(ds)\n",
    "\n",
    "fh_merra = xr.concat(arr_merra,dim = 'time')\n",
    "\n",
    "lons_merra = np.array(fh_merra.variables['lon'][:])\n",
    "lats_merra = np.array(fh_merra.variables['lat'][:])\n",
    "\n",
    "time_merra = np.array(fh_merra.variables['time'][:])\n",
    "\n",
    "i=0\n",
    "yearly_data_merra = []\n",
    "\n",
    "while(i<504):\n",
    "    pwv_slice_merra = fh_merra['TQV'][i:i+12]\n",
    "    yearly_data_merra.append(np.array(pwv_slice_merra))\n",
    "\n",
    "    i+=12\n",
    "yearly_data_merra = np.array(yearly_data_merra)\n"
   ]
  },
  {
   "cell_type": "code",
   "execution_count": 2,
   "metadata": {},
   "outputs": [],
   "source": [
    "ds_concat = [xr.open_mfdataset(file,decode_cf=True) for file in glob.glob(r\"D:\\OneDrive - IIT Delhi\\Intern\\RRI\\ERA5\\Merra Global Hourly\\*.nc\")]"
   ]
  },
  {
   "cell_type": "code",
   "execution_count": 3,
   "metadata": {},
   "outputs": [],
   "source": [
    "ds = xr.concat(ds_concat,dim = 'time')"
   ]
  },
  {
   "cell_type": "code",
   "execution_count": 4,
   "metadata": {},
   "outputs": [],
   "source": [
    "ds_mean = [d.mean(dim='time') for d in ds_concat]"
   ]
  },
  {
   "cell_type": "code",
   "execution_count": 5,
   "metadata": {},
   "outputs": [],
   "source": [
    "ds_mean_daily = xr.concat(ds_mean,dim = 'time')"
   ]
  },
  {
   "cell_type": "code",
   "execution_count": 6,
   "metadata": {},
   "outputs": [
    {
     "name": "stdout",
     "output_type": "stream",
     "text": [
      "['lon', 'lat', 'TQV']\n"
     ]
    }
   ],
   "source": [
    "varlist = list(ds_mean_daily.variables)\n",
    "print(varlist)"
   ]
  },
  {
   "cell_type": "markdown",
   "metadata": {},
   "source": []
  },
  {
   "cell_type": "code",
   "execution_count": 7,
   "metadata": {},
   "outputs": [],
   "source": [
    "pwv = ds_mean_daily['TQV']"
   ]
  },
  {
   "cell_type": "code",
   "execution_count": 8,
   "metadata": {},
   "outputs": [
    {
     "name": "stdout",
     "output_type": "stream",
     "text": [
      "(15340, 361, 576)\n"
     ]
    }
   ],
   "source": [
    "print(pwv.shape)"
   ]
  },
  {
   "cell_type": "code",
   "execution_count": 9,
   "metadata": {},
   "outputs": [
    {
     "data": {
      "text/plain": [
       "<xarray.backends.zarr.ZarrStore at 0x1e97d7345f0>"
      ]
     },
     "execution_count": 9,
     "metadata": {},
     "output_type": "execute_result"
    }
   ],
   "source": [
    "ds_mean_daily.to_zarr(r\"D:\\OneDrive - IIT Delhi\\Intern\\RRI\\ERA5\\Merra_Global_Hourly_mean.zarr\")"
   ]
  },
  {
   "cell_type": "code",
   "execution_count": 2,
   "metadata": {},
   "outputs": [],
   "source": [
    "loading = zarr.open(r\"D:\\OneDrive - IIT Delhi\\Intern\\RRI\\ERA5\\Merra_Global_Hourly_mean.zarr\")"
   ]
  },
  {
   "cell_type": "code",
   "execution_count": 5,
   "metadata": {},
   "outputs": [
    {
     "data": {
      "text/plain": [
       "3189738240"
      ]
     },
     "execution_count": 5,
     "metadata": {},
     "output_type": "execute_result"
    }
   ],
   "source": [
    "l = loading.TQV\n",
    "x = np.linspace(1,15340,15340)\n",
    "l.size"
   ]
  },
  {
   "cell_type": "code",
   "execution_count": 7,
   "metadata": {},
   "outputs": [
    {
     "ename": "SyntaxError",
     "evalue": "unexpected character after line continuation character (Temp/ipykernel_11304/2776070930.py, line 2)",
     "output_type": "error",
     "traceback": [
      "\u001b[1;36m  File \u001b[1;32m\"C:\\Users\\TANMAY~1\\AppData\\Local\\Temp/ipykernel_11304/2776070930.py\"\u001b[1;36m, line \u001b[1;32m2\u001b[0m\n\u001b[1;33m    \\|\\\u001b[0m\n\u001b[1;37m      ^\u001b[0m\n\u001b[1;31mSyntaxError\u001b[0m\u001b[1;31m:\u001b[0m unexpected character after line continuation character\n"
     ]
    }
   ],
   "source": [
    "x = zarr(\n",
    "    \\|\\\n",
    "\n",
    "    \n",
    ")"
   ]
  },
  {
   "cell_type": "code",
   "execution_count": null,
   "metadata": {},
   "outputs": [],
   "source": [
    "y = l[:][23][76]\n"
   ]
  },
  {
   "cell_type": "code",
   "execution_count": null,
   "metadata": {},
   "outputs": [],
   "source": [
    "plt.plot(x,l)"
   ]
  }
 ],
 "metadata": {
  "kernelspec": {
   "display_name": "Python 3.9.4 64-bit",
   "language": "python",
   "name": "python3"
  },
  "language_info": {
   "codemirror_mode": {
    "name": "ipython",
    "version": 3
   },
   "file_extension": ".py",
   "mimetype": "text/x-python",
   "name": "python",
   "nbconvert_exporter": "python",
   "pygments_lexer": "ipython3",
   "version": "3.10.5"
  },
  "orig_nbformat": 4,
  "vscode": {
   "interpreter": {
    "hash": "34a7ad8b6b121fd8741c6d8ce97aabeba965c85a179ba9c05da70f7ef4c9fd4f"
   }
  }
 },
 "nbformat": 4,
 "nbformat_minor": 2
}
