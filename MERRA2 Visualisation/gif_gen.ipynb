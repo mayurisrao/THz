{
 "cells": [
  {
   "cell_type": "code",
   "execution_count": 17,
   "metadata": {},
   "outputs": [],
   "source": [
    "import glob\n",
    "from PIL import Image\n",
    "def make_gif(Images):\n",
    "    frames = [Image.open(image) for image in glob.glob(f\"{Images}/*.jpeg\")]\n",
    "    frame_one = frames[0]\n",
    "    frame_one.save(\"time_avg.gif\", format=\"GIF\", append_images=frames,\n",
    "               save_all=True, duration=150, loop=0)\n",
    "    \n",
    "if __name__ == \"__main__\":\n",
    "    make_gif(r\"D:\\OneDrive - IIT Delhi\\Intern\\RRI\\Nc_images\")"
   ]
  }
 ],
 "metadata": {
  "interpreter": {
   "hash": "34a7ad8b6b121fd8741c6d8ce97aabeba965c85a179ba9c05da70f7ef4c9fd4f"
  },
  "kernelspec": {
   "display_name": "Python 3.9.4 64-bit",
   "language": "python",
   "name": "python3"
  },
  "language_info": {
   "codemirror_mode": {
    "name": "ipython",
    "version": 3
   },
   "file_extension": ".py",
   "mimetype": "text/x-python",
   "name": "python",
   "nbconvert_exporter": "python",
   "pygments_lexer": "ipython3",
   "version": "3.9.4"
  },
  "orig_nbformat": 4
 },
 "nbformat": 4,
 "nbformat_minor": 2
}
