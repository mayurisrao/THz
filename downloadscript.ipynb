{
 "cells": [
  {
   "cell_type": "code",
   "execution_count": 5,
   "metadata": {},
   "outputs": [
    {
     "name": "stdout",
     "output_type": "stream",
     "text": [
      "<class 'str'>\n"
     ]
    },
    {
     "ename": "HTTPError",
     "evalue": "404 Not Found\n\n\n\n\n\n\n\n<!DOCTYPE html PUBLIC \"-//W3C//DTD XHTML 1.0 Transitional//EN\" \"http://www.w3.org/TR/xhtml1/DTD/xhtml1-transitional.dtd\">\n\n\n<html xmlns=\"http://www.w3.org/1999/xhtml\">\n<head>\n    <meta http-equiv=\"Content-Type\" content=\"text/html; charset=UTF-8\"/>\n    <link rel='stylesheet' href='/opendap/docs/css/contents.css' type='text/css'/>\n    <title>Hyrax - Resource Not Found (404)</title>\n</head>\n\n<body>\n<p align=\"left\">&nbsp;</p>\n\n<h1 align=\"center\">Hyrax - Resource Not Found (404)</h1>\n<hr align=\"left\" size=\"1\" noshade=\"noshade\"/>\n<table width=\"100%\" border=\"0\">\n    <tr>\n        <td>\n            <a href=\"/opendap/docs/images/largeEarth.jpg\">\n            <img src=\"/opendap/docs/images/smallEarth.jpg\"\n                 alt=\"I looked everywhere!\"\n                 title=\"I looked everywhere!\"\n                 border=\"0\"/>\n            </a>\n        </td>\n\n        <td>\n            <p align=\"left\">The URL requested does not describe a resource that can be found on this server.</p>\n\n            <p align=\"left\">If you would like to start at the top level of this server, go <a\n                    href=\"/opendap/\"><strong>HERE</strong></a>.</p>\n\n            \n            <p align=\"left\">The specific error message associated with your request was:</p>\n            <blockquote> <p><strong>Failed to locate resource: /MERRA2_MONTHLY/M2IMNXINT.5.12.4/1980/MERRA2_100.instM_2d_int_Nx.198001.nc4.nc.dds </strong></p> </blockquote>\n            \n            \n            <p align=\"left\"> If you think that the server is broken (that the URL you submitted should have worked),\n                then please contact the OPeNDAP user support coordinator at:\n                <a href=\"mailto:support@opendap.org?subject=Hyrax Error 404&amp;body=%0A%0A%0A%0A%0A# -- -- -- -- -- -- -- -- -- -- -- -- -- -- -- -- --%0A# %0A# We&#39;re sorry you had a problem using the server.%0A# Please use the space above to describe what you%0A# were trying to do and we will try to assist you.%0A# Thanks,%0A# OPeNDAP Support.%0A# %0A# -- -- -- hyrax error info, please include -- -- --%0A# %0A# request_url: https://goldsmr4.gesdisc.eosdis.nasa.gov/opendap/error/error404.jsp%0A# protocol: HTTP/1.1%0A# server: goldsmr4.gesdisc.eosdis.nasa.gov%0A# port: 443%0A# javax.servlet.forward.request_uri: /opendap/MERRA2_MONTHLY/M2IMNXINT.5.12.4/1980/MERRA2_100.instM_2d_int_Nx.198001.nc4.nc.dds%0A# query_string: TQV#5B0#3A0#5D#5B0#3A360#5D#5B0#3A575#5D#2Clat#5B0#3A360#5D#2Ctime#5B0#3A0#5D#2Clon#5B0#3A575#5D#0A%0A# status: 404%0A# message: Failed to locate resource: /MERRA2_MONTHLY/M2IMNXINT.5.12.4/1980/MERRA2_100.instM_2d_int_Nx.198001.nc4.nc.dds%0A# %0A# -- -- -- -- -- -- -- -- -- -- -- -- -- -- -- -- --%0A\">support@opendap.org</a>\n            </p>\n            \n\n        </td>\n    </tr>\n</table>\n<hr align=\"left\" size=\"1\" noshade=\"noshade\"/>\n<h1 align=\"center\">Hyrax - Resource Not Found (404)</h1>\n</body>\n</html>\n",
     "output_type": "error",
     "traceback": [
      "\u001b[1;31m---------------------------------------------------------------------------\u001b[0m",
      "\u001b[1;31mHTTPError\u001b[0m                                 Traceback (most recent call last)",
      "\u001b[1;32mC:\\Users\\TANMAY~1\\AppData\\Local\\Temp/ipykernel_22860/2681938824.py\u001b[0m in \u001b[0;36m<module>\u001b[1;34m\u001b[0m\n\u001b[0;32m     17\u001b[0m \u001b[1;33m\u001b[0m\u001b[0m\n\u001b[0;32m     18\u001b[0m     \u001b[0msession\u001b[0m \u001b[1;33m=\u001b[0m \u001b[0msetup_session\u001b[0m\u001b[1;33m(\u001b[0m\u001b[0musername\u001b[0m\u001b[1;33m,\u001b[0m \u001b[0mpassword\u001b[0m\u001b[1;33m,\u001b[0m \u001b[0mcheck_url\u001b[0m\u001b[1;33m=\u001b[0m\u001b[0mdataset_url\u001b[0m\u001b[1;33m)\u001b[0m\u001b[1;33m\u001b[0m\u001b[1;33m\u001b[0m\u001b[0m\n\u001b[1;32m---> 19\u001b[1;33m     \u001b[0mdataset\u001b[0m \u001b[1;33m=\u001b[0m \u001b[0mopen_url\u001b[0m\u001b[1;33m(\u001b[0m\u001b[0mdataset_url\u001b[0m\u001b[1;33m,\u001b[0m \u001b[0msession\u001b[0m\u001b[1;33m=\u001b[0m\u001b[0msession\u001b[0m\u001b[1;33m)\u001b[0m\u001b[1;33m\u001b[0m\u001b[1;33m\u001b[0m\u001b[0m\n\u001b[0m",
      "\u001b[1;32mc:\\Users\\Tanmay Singh\\AppData\\Local\\Programs\\Python\\Python39\\lib\\site-packages\\pydap\\client.py\u001b[0m in \u001b[0;36mopen_url\u001b[1;34m(url, application, session, output_grid, timeout)\u001b[0m\n\u001b[0;32m     64\u001b[0m     \u001b[0mnever\u001b[0m \u001b[0mretrieve\u001b[0m \u001b[0mcoordinate\u001b[0m \u001b[0maxes\u001b[0m\u001b[1;33m.\u001b[0m\u001b[1;33m\u001b[0m\u001b[1;33m\u001b[0m\u001b[0m\n\u001b[0;32m     65\u001b[0m     \"\"\"\n\u001b[1;32m---> 66\u001b[1;33m     dataset = DAPHandler(url, application, session, output_grid,\n\u001b[0m\u001b[0;32m     67\u001b[0m                          timeout).dataset\n\u001b[0;32m     68\u001b[0m \u001b[1;33m\u001b[0m\u001b[0m\n",
      "\u001b[1;32mc:\\Users\\Tanmay Singh\\AppData\\Local\\Programs\\Python\\Python39\\lib\\site-packages\\pydap\\handlers\\dap.py\u001b[0m in \u001b[0;36m__init__\u001b[1;34m(self, url, application, session, output_grid, timeout)\u001b[0m\n\u001b[0;32m     52\u001b[0m         \u001b[0mddsurl\u001b[0m \u001b[1;33m=\u001b[0m \u001b[0murlunsplit\u001b[0m\u001b[1;33m(\u001b[0m\u001b[1;33m(\u001b[0m\u001b[0mscheme\u001b[0m\u001b[1;33m,\u001b[0m \u001b[0mnetloc\u001b[0m\u001b[1;33m,\u001b[0m \u001b[0mpath\u001b[0m \u001b[1;33m+\u001b[0m \u001b[1;34m'.dds'\u001b[0m\u001b[1;33m,\u001b[0m \u001b[0mquery\u001b[0m\u001b[1;33m,\u001b[0m \u001b[0mfragment\u001b[0m\u001b[1;33m)\u001b[0m\u001b[1;33m)\u001b[0m\u001b[1;33m\u001b[0m\u001b[1;33m\u001b[0m\u001b[0m\n\u001b[0;32m     53\u001b[0m         \u001b[0mr\u001b[0m \u001b[1;33m=\u001b[0m \u001b[0mGET\u001b[0m\u001b[1;33m(\u001b[0m\u001b[0mddsurl\u001b[0m\u001b[1;33m,\u001b[0m \u001b[0mapplication\u001b[0m\u001b[1;33m,\u001b[0m \u001b[0msession\u001b[0m\u001b[1;33m,\u001b[0m \u001b[0mtimeout\u001b[0m\u001b[1;33m=\u001b[0m\u001b[0mtimeout\u001b[0m\u001b[1;33m)\u001b[0m\u001b[1;33m\u001b[0m\u001b[1;33m\u001b[0m\u001b[0m\n\u001b[1;32m---> 54\u001b[1;33m         \u001b[0mraise_for_status\u001b[0m\u001b[1;33m(\u001b[0m\u001b[0mr\u001b[0m\u001b[1;33m)\u001b[0m\u001b[1;33m\u001b[0m\u001b[1;33m\u001b[0m\u001b[0m\n\u001b[0m\u001b[0;32m     55\u001b[0m         \u001b[1;32mif\u001b[0m \u001b[1;32mnot\u001b[0m \u001b[0mr\u001b[0m\u001b[1;33m.\u001b[0m\u001b[0mcharset\u001b[0m\u001b[1;33m:\u001b[0m\u001b[1;33m\u001b[0m\u001b[1;33m\u001b[0m\u001b[0m\n\u001b[0;32m     56\u001b[0m             \u001b[0mr\u001b[0m\u001b[1;33m.\u001b[0m\u001b[0mcharset\u001b[0m \u001b[1;33m=\u001b[0m \u001b[1;34m'ascii'\u001b[0m\u001b[1;33m\u001b[0m\u001b[1;33m\u001b[0m\u001b[0m\n",
      "\u001b[1;32mc:\\Users\\Tanmay Singh\\AppData\\Local\\Programs\\Python\\Python39\\lib\\site-packages\\pydap\\net.py\u001b[0m in \u001b[0;36mraise_for_status\u001b[1;34m(response)\u001b[0m\n\u001b[0;32m     31\u001b[0m     \u001b[1;31m# Raise error if status is above 300:\u001b[0m\u001b[1;33m\u001b[0m\u001b[1;33m\u001b[0m\u001b[1;33m\u001b[0m\u001b[0m\n\u001b[0;32m     32\u001b[0m     \u001b[1;32mif\u001b[0m \u001b[0mresponse\u001b[0m\u001b[1;33m.\u001b[0m\u001b[0mstatus_code\u001b[0m \u001b[1;33m>=\u001b[0m \u001b[1;36m300\u001b[0m\u001b[1;33m:\u001b[0m\u001b[1;33m\u001b[0m\u001b[1;33m\u001b[0m\u001b[0m\n\u001b[1;32m---> 33\u001b[1;33m         raise HTTPError(\n\u001b[0m\u001b[0;32m     34\u001b[0m             \u001b[0mdetail\u001b[0m\u001b[1;33m=\u001b[0m\u001b[0mresponse\u001b[0m\u001b[1;33m.\u001b[0m\u001b[0mstatus\u001b[0m\u001b[1;33m+\u001b[0m\u001b[1;34m'\\n'\u001b[0m\u001b[1;33m+\u001b[0m\u001b[0mresponse\u001b[0m\u001b[1;33m.\u001b[0m\u001b[0mtext\u001b[0m\u001b[1;33m,\u001b[0m\u001b[1;33m\u001b[0m\u001b[1;33m\u001b[0m\u001b[0m\n\u001b[0;32m     35\u001b[0m             \u001b[0mheaders\u001b[0m\u001b[1;33m=\u001b[0m\u001b[0mresponse\u001b[0m\u001b[1;33m.\u001b[0m\u001b[0mheaders\u001b[0m\u001b[1;33m,\u001b[0m\u001b[1;33m\u001b[0m\u001b[1;33m\u001b[0m\u001b[0m\n",
      "\u001b[1;31mHTTPError\u001b[0m: 404 Not Found\n\n\n\n\n\n\n\n<!DOCTYPE html PUBLIC \"-//W3C//DTD XHTML 1.0 Transitional//EN\" \"http://www.w3.org/TR/xhtml1/DTD/xhtml1-transitional.dtd\">\n\n\n<html xmlns=\"http://www.w3.org/1999/xhtml\">\n<head>\n    <meta http-equiv=\"Content-Type\" content=\"text/html; charset=UTF-8\"/>\n    <link rel='stylesheet' href='/opendap/docs/css/contents.css' type='text/css'/>\n    <title>Hyrax - Resource Not Found (404)</title>\n</head>\n\n<body>\n<p align=\"left\">&nbsp;</p>\n\n<h1 align=\"center\">Hyrax - Resource Not Found (404)</h1>\n<hr align=\"left\" size=\"1\" noshade=\"noshade\"/>\n<table width=\"100%\" border=\"0\">\n    <tr>\n        <td>\n            <a href=\"/opendap/docs/images/largeEarth.jpg\">\n            <img src=\"/opendap/docs/images/smallEarth.jpg\"\n                 alt=\"I looked everywhere!\"\n                 title=\"I looked everywhere!\"\n                 border=\"0\"/>\n            </a>\n        </td>\n\n        <td>\n            <p align=\"left\">The URL requested does not describe a resource that can be found on this server.</p>\n\n            <p align=\"left\">If you would like to start at the top level of this server, go <a\n                    href=\"/opendap/\"><strong>HERE</strong></a>.</p>\n\n            \n            <p align=\"left\">The specific error message associated with your request was:</p>\n            <blockquote> <p><strong>Failed to locate resource: /MERRA2_MONTHLY/M2IMNXINT.5.12.4/1980/MERRA2_100.instM_2d_int_Nx.198001.nc4.nc.dds </strong></p> </blockquote>\n            \n            \n            <p align=\"left\"> If you think that the server is broken (that the URL you submitted should have worked),\n                then please contact the OPeNDAP user support coordinator at:\n                <a href=\"mailto:support@opendap.org?subject=Hyrax Error 404&amp;body=%0A%0A%0A%0A%0A# -- -- -- -- -- -- -- -- -- -- -- -- -- -- -- -- --%0A# %0A# We&#39;re sorry you had a problem using the server.%0A# Please use the space above to describe what you%0A# were trying to do and we will try to assist you.%0A# Thanks,%0A# OPeNDAP Support.%0A# %0A# -- -- -- hyrax error info, please include -- -- --%0A# %0A# request_url: https://goldsmr4.gesdisc.eosdis.nasa.gov/opendap/error/error404.jsp%0A# protocol: HTTP/1.1%0A# server: goldsmr4.gesdisc.eosdis.nasa.gov%0A# port: 443%0A# javax.servlet.forward.request_uri: /opendap/MERRA2_MONTHLY/M2IMNXINT.5.12.4/1980/MERRA2_100.instM_2d_int_Nx.198001.nc4.nc.dds%0A# query_string: TQV#5B0#3A0#5D#5B0#3A360#5D#5B0#3A575#5D#2Clat#5B0#3A360#5D#2Ctime#5B0#3A0#5D#2Clon#5B0#3A575#5D#0A%0A# status: 404%0A# message: Failed to locate resource: /MERRA2_MONTHLY/M2IMNXINT.5.12.4/1980/MERRA2_100.instM_2d_int_Nx.198001.nc4.nc.dds%0A# %0A# -- -- -- -- -- -- -- -- -- -- -- -- -- -- -- -- --%0A\">support@opendap.org</a>\n            </p>\n            \n\n        </td>\n    </tr>\n</table>\n<hr align=\"left\" size=\"1\" noshade=\"noshade\"/>\n<h1 align=\"center\">Hyrax - Resource Not Found (404)</h1>\n</body>\n</html>\n"
     ]
    }
   ],
   "source": [
    "from pydap.client import open_url\n",
    "from pydap.cas.urs import setup_session\n",
    "\n",
    "\n",
    "username = 'tanmaysingh972'\n",
    "password = 'Intelpentium9&7'\n",
    "\n",
    "file = open('prov.data_search+dM2IMNXINT_5_12_4_TQV+t19800101000000_20220131235959.txt')\n",
    "\n",
    "while True:\n",
    "    \n",
    "    dataset_url = file.readline() \n",
    "    print(type(dataset_url))\n",
    "\n",
    "    if not dataset_url:\n",
    "        break\n",
    "\n",
    "    session = setup_session(username, password, check_url=dataset_url)\n",
    "    dataset = open_url(dataset_url, session=session)"
   ]
  }
 ],
 "metadata": {
  "interpreter": {
   "hash": "34a7ad8b6b121fd8741c6d8ce97aabeba965c85a179ba9c05da70f7ef4c9fd4f"
  },
  "kernelspec": {
   "display_name": "Python 3.9.4 64-bit",
   "language": "python",
   "name": "python3"
  },
  "language_info": {
   "codemirror_mode": {
    "name": "ipython",
    "version": 3
   },
   "file_extension": ".py",
   "mimetype": "text/x-python",
   "name": "python",
   "nbconvert_exporter": "python",
   "pygments_lexer": "ipython3",
   "version": "3.9.4"
  },
  "orig_nbformat": 4
 },
 "nbformat": 4,
 "nbformat_minor": 2
}
